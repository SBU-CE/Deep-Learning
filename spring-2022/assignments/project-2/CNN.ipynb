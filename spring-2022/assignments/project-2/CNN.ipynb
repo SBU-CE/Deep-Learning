{
 "cells": [
  {
   "cell_type": "markdown",
   "id": "7c997405-7ccd-4075-a82d-5b3c8d8d970c",
   "metadata": {
    "tags": []
   },
   "source": [
    "# <center>Assignment 2: Convolutional Neural Network</center>\n",
    "**<center>Deep Learning | Spring 2022 | Shahid Beheshti University</center>**\n"
   ]
  },
  {
   "cell_type": "markdown",
   "id": "92103ee9-2bdc-45ad-84fd-6f4093188d9c",
   "metadata": {
    "tags": []
   },
   "source": [
    "Welcome to the **second** programming assignment of the Deep Learning course. \n",
    "\n",
    "---\n",
    "\n",
    "<b>overview</b>:\n",
    "\n",
    "The goal of this assignment is to get you familiarized with convolutional neural networks. \n",
    "\n",
    "First, we will train a CNN model as our base model to solve the Image Colorization task. In general, Image Colorization is a difficult problem e.g. a grayscale image, may have several valid coloring images.\n",
    "\n",
    "After training, we will add some configurations to it to check their effect and then analyze it.\n",
    "\n",
    "\n",
    "\n",
    "---\n",
    "<b>Submission tips</b>:\n",
    "\n",
    "please review the notes of **this notebook** and whatever is in the **assignment file**.\n",
    "\n",
    "You can implement other than functions that exist in PY files or change the structure of the notebook based on the given Questions.\n",
    "\n",
    "\n",
    "\n",
    "<b> What these codes do (exist in PY files)</b>:\n",
    "\n",
    "There are four PY files that are required to run the CNN.ipynb. Below, the functionality of each PY file are summarized, but more details are provided in the files themselves.\n",
    "\n",
    "- utils.py: Contain several functions for data preprocessing.\n",
    "- torch_helper.py: Contain several functions used during the training process. `some of them required to implement`\n",
    "- model.py: Contains several classes as the models and their blocks (base model and custom U-Net). `required to implement`\n",
    "- train.py: as the its name show it is for training and validating model. `required to implement`\n",
    "\n",
    "\n",
    "----\n",
    "<b>Due date:</b> 10 Ordibehesht 1401 - 11:59 pm\n",
    " \n",
    "\n",
    " > **_NOTE:_** Alongside the `CNN.ipynb` notebook, there are some python files with the coding parts you need to implement are denoted by: ``` # YOUR CODE #```. Moreover, some <u>Questions</u> are given in the assignment file. \n",
    " \n",
    " \n",
    " ---\n"
   ]
  },
  {
   "cell_type": "markdown",
   "id": "aaac4660-b606-4bee-8079-936b4a7862b1",
   "metadata": {},
   "source": [
    "<p style=\"color:red;\">! Probably you need GPU to train your model so you may use your graphic of your system or if you are on Colab don't forget to enable that:</p>\n",
    "<b><blockquote>Runtime -> Change runtime type -> Hardware Accelator: GPU</blockquote>\n"
   ]
  },
  {
   "cell_type": "markdown",
   "id": "ff6638fd-889e-4cf1-ac74-bcc9463b8907",
   "metadata": {
    "tags": []
   },
   "source": [
    "# Packages and modules\n",
    "\n",
    "Let's first import all the packages that you will need during this assignment."
   ]
  },
  {
   "cell_type": "code",
   "execution_count": null,
   "id": "86deb510-f6ec-4674-8ced-a4d6e411f746",
   "metadata": {},
   "outputs": [],
   "source": [
    "# Pytorch library and other packages\n",
    "\n",
    "import torch\n",
    "from utils import *\n",
    "from train import *\n"
   ]
  },
  {
   "cell_type": "markdown",
   "id": "d07f1d62-58ab-4079-bddd-10d243b2f50c",
   "metadata": {},
   "source": [
    "# Constants"
   ]
  },
  {
   "cell_type": "code",
   "execution_count": null,
   "id": "a8cbc8f5-d123-44b1-afc3-6fd43201d95f",
   "metadata": {},
   "outputs": [],
   "source": [
    "colours_dic_addr = 'car_colours_kmeans24.npy'\n",
    "# your_student_id = \n",
    "\n",
    "# other constants if needed"
   ]
  },
  {
   "cell_type": "markdown",
   "id": "a7729b04-64c0-4653-ba91-bced98cc3940",
   "metadata": {},
   "source": [
    "# Dataset\n"
   ]
  },
  {
   "cell_type": "markdown",
   "id": "91d9c443-7156-4f12-937b-abfd36522753",
   "metadata": {},
   "source": [
    "## Prepare Dataset: cifar10"
   ]
  },
  {
   "cell_type": "markdown",
   "id": "ae0eb6d4-7635-4719-9476-f74664de16e4",
   "metadata": {},
   "source": [
    "**CIFAR-10** is considered for this assignment which consists of images of size 32x32 pixels. For simplicity, one category of this dataset is considered (automobile).\n",
    "The input and output of the network will be the grayscale image and RGB image respectively. by **running** the following code blocks get the dataset.\n",
    "\n",
    "The subset of **24 colors** that are selected to colorize the grayscale images is provided in the car_colours_kmeans24.npy file."
   ]
  },
  {
   "cell_type": "code",
   "execution_count": null,
   "id": "10eb596f-a90f-4bb3-877b-94456f9d500c",
   "metadata": {},
   "outputs": [],
   "source": [
    "# Download CIFAR dataset\n",
    "(x_train, y_train), (x_test, y_test) = load_cifar10()\n",
    "\n",
    "# LOAD THE COLOURS CATEGORIES\n",
    "colours = np.load(colours_dic_addr, allow_pickle=True, encoding='bytes')"
   ]
  },
  {
   "cell_type": "markdown",
   "id": "47321667-f3cd-4cbc-a6b7-c6b13e726958",
   "metadata": {
    "tags": []
   },
   "source": [
    "# Image Colorization "
   ]
  },
  {
   "cell_type": "markdown",
   "id": "f64da99c-20bd-4bc6-81cb-38c48cec220b",
   "metadata": {},
   "source": [
    "## Base Model"
   ]
  },
  {
   "cell_type": "markdown",
   "id": "cebe40ac-9bdf-48c8-a116-be96d006ba59",
   "metadata": {},
   "source": [
    "Complete the <code>model.py</code> to train your model\n",
    "\n",
    "<br>\n",
    "\n",
    "<p align=\"center\">\n",
    "  <img src=\"images/baseModel.png\">\n",
    "</p>"
   ]
  },
  {
   "cell_type": "markdown",
   "id": "1ec0b84e-0601-4b69-8e9c-8771838e55ef",
   "metadata": {
    "tags": []
   },
   "source": [
    "### Training"
   ]
  },
  {
   "cell_type": "code",
   "execution_count": null,
   "id": "801a4fe8-b1ab-4530-a2ae-7d0e201a4e04",
   "metadata": {},
   "outputs": [],
   "source": [
    "##############################################################################################\n",
    "#                                 define some arguments if needed to pass                    #\n",
    "##############################################################################################\n",
    "\n",
    "class AttrDict(dict):\n",
    "    def __init__(self, *args, **kwargs):\n",
    "        super(AttrDict, self).__init__(*args, **kwargs)\n",
    "        self.__dict__ = self\n",
    "args = AttrDict()\n",
    "args_dict = {\n",
    "              'gpu':True, \n",
    "              'num_filters':64, \n",
    "              'seed':your_student_id,\n",
    "              'category_id': 1\n",
    "}\n",
    "args.update(args_dict)\n",
    "\n",
    "##############################################################################################\n",
    "#                                 Call train function                                        #\n",
    "##############################################################################################"
   ]
  },
  {
   "cell_type": "markdown",
   "id": "cf258610-8177-4884-b0ff-0512395a50bc",
   "metadata": {},
   "source": [
    "## Custom U-Net Model"
   ]
  },
  {
   "cell_type": "markdown",
   "id": "13f9ed7a-adfb-4646-b401-ca5e4e77c79a",
   "metadata": {},
   "source": [
    "Complete the <code>model.py</code> to train your model"
   ]
  },
  {
   "cell_type": "markdown",
   "id": "7ca5e38c-ac4a-4893-a3e3-c477df1a48a9",
   "metadata": {},
   "source": [
    "### Training"
   ]
  },
  {
   "cell_type": "code",
   "execution_count": null,
   "id": "63f54720-a76a-4f00-aedd-6d5327dc0e9d",
   "metadata": {},
   "outputs": [],
   "source": [
    "##############################################################################################\n",
    "#                                 define some arguments if needed to pass                    #\n",
    "##############################################################################################\n",
    "\n",
    "class AttrDict(dict):\n",
    "    def __init__(self, *args, **kwargs):\n",
    "        super(AttrDict, self).__init__(*args, **kwargs)\n",
    "        self.__dict__ = self\n",
    "args = AttrDict()\n",
    "args_dict = {\n",
    "              'gpu':True, \n",
    "              'num_filters':64, \n",
    "              'seed':your_student_id,\n",
    "              'category_id': 1\n",
    "}\n",
    "args.update(args_dict)\n",
    "\n",
    "##############################################################################################\n",
    "#                                 call the train function (train.py)                         #\n",
    "##############################################################################################"
   ]
  },
  {
   "cell_type": "markdown",
   "id": "6fad1128-e0d0-4483-9c6a-a5e50a647f75",
   "metadata": {},
   "source": [
    "# Skip connection "
   ]
  },
  {
   "cell_type": "markdown",
   "id": "a2c358ab-2948-4621-b3e5-9e07171e9fde",
   "metadata": {},
   "source": [
    "A skip connection in a neural network is a connection which skips one or more layer and connects to a later layer. We will add skip connections to our base model."
   ]
  },
  {
   "cell_type": "markdown",
   "id": "7326afe8-243e-4365-9057-6690031694f8",
   "metadata": {},
   "source": [
    "We will add skip connection from first layer to last layer, second layer to the second last, etc. This type of skip connection was introduced by [Ronneberger et al.](https://arxiv.org/abs/1505.04597) in U-Net architecture.\n",
    "\n",
    "The class of this model exists in <code>model.py</code> to complete.\n",
    "\n",
    "<br>\n",
    "\n",
    "<p align=\"center\">\n",
    "  <img src=\"images/U-Net.png\">\n",
    "</p>"
   ]
  },
  {
   "cell_type": "markdown",
   "id": "c3b98237-cdda-466b-80f9-ce2d85e6f3e2",
   "metadata": {
    "tags": []
   },
   "source": [
    "## Training"
   ]
  },
  {
   "cell_type": "code",
   "execution_count": null,
   "id": "178c511e-4122-4f40-a710-4ca48b14d39e",
   "metadata": {},
   "outputs": [],
   "source": [
    "##############################################################################################\n",
    "#                                 define some arguments if needed to pass                    #\n",
    "##############################################################################################\n",
    "\n",
    "class AttrDict(dict):\n",
    "    def __init__(self, *args, **kwargs):\n",
    "        super(AttrDict, self).__init__(*args, **kwargs)\n",
    "        self.__dict__ = self\n",
    "args = AttrDict()\n",
    "args_dict = {\n",
    "              'gpu':True, \n",
    "              'num_filters':64, \n",
    "              'seed':your_student_id,\n",
    "              'category_id': 1\n",
    "}\n",
    "args.update(args_dict)\n",
    "\n",
    "##############################################################################################\n",
    "#                                 call the train function (train.py)                         #\n",
    "##############################################################################################"
   ]
  },
  {
   "cell_type": "markdown",
   "id": "535a2342-7a49-4ddd-9d62-9af21fbe1283",
   "metadata": {},
   "source": [
    "# Extra Points: U-Net with Residual block"
   ]
  },
  {
   "cell_type": "markdown",
   "id": "dbdf02b8-5140-4f93-a15c-9d6507201c09",
   "metadata": {},
   "source": [
    "Based on the concept of Residual Learning, convert DownConv, UpConv and BottelNeck to Residual block.Then modify the `train` function to get result.\n",
    "\n",
    "<br>\n",
    "<p align=\"center\">\n",
    "  <img src=\"images/ResidualBlock.png\">\n",
    "</p>"
   ]
  },
  {
   "cell_type": "markdown",
   "id": "f532ff35-e3a4-423e-a1f8-33f65f2f03a8",
   "metadata": {
    "tags": []
   },
   "source": [
    "## Training"
   ]
  },
  {
   "cell_type": "code",
   "execution_count": null,
   "id": "26c7df9c-6ef3-4b7a-9858-ce149d2471bb",
   "metadata": {},
   "outputs": [],
   "source": [
    "##############################################################################################\n",
    "#                                 define some arguments if needed to pass                    #\n",
    "##############################################################################################\n",
    "\n",
    "class AttrDict(dict):\n",
    "    def __init__(self, *args, **kwargs):\n",
    "        super(AttrDict, self).__init__(*args, **kwargs)\n",
    "        self.__dict__ = self\n",
    "args = AttrDict()\n",
    "args_dict = {\n",
    "              'gpu':True, \n",
    "              'num_filters':64, \n",
    "              'seed':your_student_id,\n",
    "              'category_id': 1\n",
    "}\n",
    "args.update(args_dict)\n",
    "\n",
    "##############################################################################################\n",
    "#                                 call the train function (train.py)                         #\n",
    "##############################################################################################"
   ]
  },
  {
   "cell_type": "markdown",
   "id": "19cbac1d-e2df-4640-ad5a-6c15c2928e08",
   "metadata": {},
   "source": [
    "# Refrences"
   ]
  },
  {
   "cell_type": "markdown",
   "id": "a0e0eb1d-b94e-44c9-b61a-ea5b9d449fe0",
   "metadata": {},
   "source": [
    "- https://ai.stanford.edu/~syyeung/cvweb/tutorial1.html\n",
    "- https://pytorch.org/docs/stable/generated/torch.nn.CrossEntropyLoss.html\n",
    "- http://papers.nips.cc/paper/7515-how-does-batch-normalization-help-optimization.pdf\n",
    "- Intro to optimization in deep learning: Busting the myth about batch normalization [[link](https://blog.paperspace.com/busting-the-myths-about-batch-normalization/)]\n",
    "- Why Does Batch Normalization Work? [[link](https://abay.tech/blog/2018/07/01/why-does-batch-normalization-work/)]\n",
    "- https://arxiv.org/abs/1505.04597\n"
   ]
  }
 ],
 "metadata": {
  "kernelspec": {
   "display_name": "Python 3 (ipykernel)",
   "language": "python",
   "name": "python3"
  },
  "language_info": {
   "codemirror_mode": {
    "name": "ipython",
    "version": 3
   },
   "file_extension": ".py",
   "mimetype": "text/x-python",
   "name": "python",
   "nbconvert_exporter": "python",
   "pygments_lexer": "ipython3",
   "version": "3.8.13"
  }
 },
 "nbformat": 4,
 "nbformat_minor": 5
}
