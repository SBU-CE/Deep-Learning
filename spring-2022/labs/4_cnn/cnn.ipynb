{
 "cells": [
  {
   "cell_type": "code",
   "execution_count": 31,
   "id": "hired-ticket",
   "metadata": {},
   "outputs": [],
   "source": [
    "import torch\n",
    "import torch.nn as nn\n",
    "import torchvision\n",
    "import torch.nn.functional as F\n",
    "import torchvision.transforms as transforms"
   ]
  },
  {
   "cell_type": "code",
   "execution_count": 41,
   "id": "afraid-kitty",
   "metadata": {},
   "outputs": [],
   "source": [
    "# device configuration\n",
    "device = torch.device(\"cuda:0\" if torch.cuda.is_available() else \"cpu\")\n",
    "\n",
    "# hyper parameters\n",
    "num_epochs = 5\n",
    "num_classes = 10\n",
    "batch_size = 8\n",
    "learning_rate = 0.0001"
   ]
  },
  {
   "cell_type": "code",
   "execution_count": 23,
   "id": "veterinary-queensland",
   "metadata": {},
   "outputs": [],
   "source": [
    "#mnist dataset\n",
    "transforms = transforms.Compose([transforms.Resize((32, 32)),\n",
    "                                 transforms.ToTensor()])\n",
    "\n",
    "train_dataset = torchvision.datasets.MNIST(root=\"./data\", download=True,\n",
    "                                           transform=transforms,\n",
    "                                           train=True)\n",
    "\n",
    "test_dataset = torchvision.datasets.MNIST(root=\"./data\", download=True,\n",
    "                                          transform=transforms,\n",
    "                                          train=False)"
   ]
  },
  {
   "cell_type": "code",
   "execution_count": 24,
   "id": "streaming-biotechnology",
   "metadata": {},
   "outputs": [],
   "source": [
    "# data loader\n",
    "train_loader = torch.utils.data.DataLoader(dataset=train_dataset,\n",
    "                                           batch_size=batch_size,\n",
    "                                           shuffle=True)\n",
    "\n",
    "test_loader = torch.utils.data.DataLoader(dataset=test_dataset,\n",
    "                                          batch_size=batch_size,\n",
    "                                          shuffle=True)"
   ]
  },
  {
   "cell_type": "markdown",
   "id": "hairy-provider",
   "metadata": {},
   "source": [
    "## LeNet5\n",
    "\n",
    "<p align=\"center\">\n",
    "  <img src=\"images/LeNet5.png\">\n",
    "</p>"
   ]
  },
  {
   "cell_type": "code",
   "execution_count": 33,
   "id": "exclusive-variable",
   "metadata": {},
   "outputs": [],
   "source": [
    "class LeNet5(nn.Module):\n",
    "    def __init__(self, n_classes):\n",
    "        super(LeNet5, self).__init__()\n",
    "        \n",
    "        self.feature_extractor = nn.Sequential(\n",
    "            nn.Conv2d(in_channels=1, out_channels=6, kernel_size=5, stride=1),\n",
    "            nn.Tanh(),\n",
    "            nn.AvgPool2d(kernel_size=2),\n",
    "            nn.Conv2d(in_channels=6, out_channels=16, kernel_size=5, stride=1),\n",
    "            nn.Tanh(),\n",
    "            nn.AvgPool2d(kernel_size=2),\n",
    "            nn.Conv2d(in_channels=16, out_channels=120, kernel_size=5, stride=1),\n",
    "            nn.Tanh()\n",
    "        )\n",
    "        \n",
    "        self.classifier = nn.Sequential(\n",
    "            nn.Linear(in_features=120, out_features=84),\n",
    "            nn.Tanh(),\n",
    "            nn.Linear(in_features=84, out_features=n_classes)\n",
    "        )\n",
    "        \n",
    "    def forward(self, x):\n",
    "        x = self.feature_extractor(x)\n",
    "        x = torch.flatten(x, 1)\n",
    "        logits = self.classifier(x)\n",
    "        probs = F.softmax(logits, dim=1)\n",
    "        \n",
    "        return logits, probs"
   ]
  },
  {
   "cell_type": "code",
   "execution_count": 42,
   "id": "civil-devil",
   "metadata": {},
   "outputs": [],
   "source": [
    "# get a model instance\n",
    "model = LeNet5(n_classes=num_classes).to(device)\n",
    "\n",
    "# loss and optimizer\n",
    "criterion = nn.CrossEntropyLoss()\n",
    "optimizer = torch.optim.Adam(model.parameters(), lr=learning_rate)"
   ]
  },
  {
   "cell_type": "code",
   "execution_count": 43,
   "id": "established-solomon",
   "metadata": {},
   "outputs": [
    {
     "name": "stdout",
     "output_type": "stream",
     "text": [
      "Epoch [1/5], Train Loss: 0.18992525339126587, Test Loss: 0.20220623910427094\n",
      "Test accuracy: 93.2\n",
      "Epoch [2/5], Train Loss: 0.0374927744269371, Test Loss: 0.029778197407722473\n",
      "Test accuracy: 95.74\n",
      "Epoch [3/5], Train Loss: 0.09928139299154282, Test Loss: 0.07281767576932907\n",
      "Test accuracy: 96.79\n",
      "Epoch [4/5], Train Loss: 0.4637470245361328, Test Loss: 0.12256816029548645\n",
      "Test accuracy: 97.33\n",
      "Epoch [5/5], Train Loss: 0.020538879558444023, Test Loss: 0.027356769889593124\n",
      "Test accuracy: 97.85\n"
     ]
    }
   ],
   "source": [
    "for epoch in range(num_epochs):\n",
    "    for i, (images, labels) in enumerate(train_loader):\n",
    "        images = images.to(device)\n",
    "        labels = labels.to(device)\n",
    "        \n",
    "        # forward pass\n",
    "        outputs, _ = model(images)\n",
    "        train_loss = criterion(outputs, labels)\n",
    "        \n",
    "        # backward and optimization\n",
    "        optimizer.zero_grad()\n",
    "        train_loss.backward()\n",
    "        optimizer.step()\n",
    "        \n",
    "    # evaluate the model on the test set    \n",
    "    model.eval()\n",
    "    with torch.no_grad():\n",
    "        correct = 0\n",
    "        total = 0\n",
    "        for images, labels in test_loader:\n",
    "            images = images.to(device)\n",
    "            labels = labels.to(device)\n",
    "            outputs, _ = model(images)\n",
    "            test_loss = criterion(outputs, labels)\n",
    "            \n",
    "            _, predicted = torch.max(outputs.data, 1)\n",
    "            total += labels.size(0)\n",
    "            correct += (predicted == labels).sum().item()\n",
    "        \n",
    "    print(f\"Epoch [{epoch+1}/{num_epochs}], Train Loss: {train_loss.item()}, Test Loss: {test_loss.item()}\")\n",
    "    print(f\"Test accuracy: {100 * correct / total}\")\n",
    "        "
   ]
  },
  {
   "cell_type": "code",
   "execution_count": 44,
   "id": "pharmaceutical-college",
   "metadata": {},
   "outputs": [],
   "source": [
    "# save the model checkpoint\n",
    "torch.save(model.state_dict(), 'LeNet5.pt')"
   ]
  },
  {
   "cell_type": "code",
   "execution_count": null,
   "id": "applicable-indian",
   "metadata": {},
   "outputs": [],
   "source": []
  }
 ],
 "metadata": {
  "kernelspec": {
   "display_name": "Python 3",
   "language": "python",
   "name": "python3"
  },
  "language_info": {
   "codemirror_mode": {
    "name": "ipython",
    "version": 3
   },
   "file_extension": ".py",
   "mimetype": "text/x-python",
   "name": "python",
   "nbconvert_exporter": "python",
   "pygments_lexer": "ipython3",
   "version": "3.9.5"
  }
 },
 "nbformat": 4,
 "nbformat_minor": 5
}
