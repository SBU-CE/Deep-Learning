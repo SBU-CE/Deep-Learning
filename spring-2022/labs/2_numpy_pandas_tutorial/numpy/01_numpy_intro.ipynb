{
 "cells": [
  {
   "cell_type": "markdown",
   "metadata": {},
   "source": [
    "Numpy is the fundamental package for numeric computing with Python. It provides powerful ways to create,\n",
    "store, and/or manipulate data, which makes it able to seamlessly and speedily integrate with a wide variety\n",
    "of databases. This is also the foundation that Pandas is built on, which is a high-performance data-centric\n",
    "package that we will learn later in the course.\n",
    "\n",
    "In this lecture, we will talk about creating array with certain data types, manipulating array, selecting\n",
    "elements from arrays, and loading dataset into array. Such functions are useful for manipulating data and\n",
    "understanding the functionalities of other common Python data packages."
   ]
  },
  {
   "cell_type": "code",
   "execution_count": 1,
   "metadata": {},
   "outputs": [],
   "source": [
    "# You'll recall that we import a library using the `import` keyword as numpy's common abbreviation is np\n",
    "import numpy as np\n",
    "import math"
   ]
  },
  {
   "cell_type": "markdown",
   "metadata": {
    "collapsed": true
   },
   "source": [
    "# Array Creation"
   ]
  },
  {
   "cell_type": "code",
   "execution_count": 2,
   "metadata": {},
   "outputs": [
    {
     "name": "stdout",
     "output_type": "stream",
     "text": [
      "[1 2 3]\n",
      "1\n"
     ]
    }
   ],
   "source": [
    "# Arrays are displayed as a list or list of lists and can be created through list as well. When creating an\n",
    "# array, we pass in a list as an argument in numpy array\n",
    "a = np.array([1, 2, 3])\n",
    "print(a)\n",
    "# We can print the number of dimensions of a list using the ndim attribute\n",
    "print(a.ndim)"
   ]
  },
  {
   "cell_type": "code",
   "execution_count": 3,
   "metadata": {},
   "outputs": [
    {
     "data": {
      "text/plain": [
       "array([[1, 2, 3],\n",
       "       [4, 5, 6]])"
      ]
     },
     "execution_count": 3,
     "metadata": {},
     "output_type": "execute_result"
    }
   ],
   "source": [
    "# If we pass in a list of lists in numpy array, we create a multi-dimensional array, for instance, a matrix\n",
    "b = np.array([[1,2,3],[4,5,6]])\n",
    "b"
   ]
  },
  {
   "cell_type": "code",
   "execution_count": 4,
   "metadata": {},
   "outputs": [
    {
     "data": {
      "text/plain": [
       "(2, 3)"
      ]
     },
     "execution_count": 4,
     "metadata": {},
     "output_type": "execute_result"
    }
   ],
   "source": [
    "# We can print out the length of each dimension by calling the shape attribute, which returns a tuple\n",
    "b.shape"
   ]
  },
  {
   "cell_type": "code",
   "execution_count": 5,
   "metadata": {},
   "outputs": [
    {
     "data": {
      "text/plain": [
       "dtype('int64')"
      ]
     },
     "execution_count": 5,
     "metadata": {},
     "output_type": "execute_result"
    }
   ],
   "source": [
    "# We can also check the type of items in the array\n",
    "a.dtype"
   ]
  },
  {
   "cell_type": "code",
   "execution_count": 6,
   "metadata": {},
   "outputs": [
    {
     "data": {
      "text/plain": [
       "'float64'"
      ]
     },
     "execution_count": 6,
     "metadata": {},
     "output_type": "execute_result"
    }
   ],
   "source": [
    "# Besides integers, floats are also accepted in numpy arrays\n",
    "c = np.array([2.2, 5, 1.1])\n",
    "c.dtype.name"
   ]
  },
  {
   "cell_type": "code",
   "execution_count": 7,
   "metadata": {},
   "outputs": [
    {
     "data": {
      "text/plain": [
       "array([2.2, 5. , 1.1])"
      ]
     },
     "execution_count": 7,
     "metadata": {},
     "output_type": "execute_result"
    }
   ],
   "source": [
    "# Let's look at the data in our array\n",
    "c"
   ]
  },
  {
   "cell_type": "code",
   "execution_count": 10,
   "metadata": {},
   "outputs": [],
   "source": [
    "# Note that numpy automatically converts integers, like 5, up to floats, since there is no loss of prescision.\n",
    "# Numpy will try and give you the best data type format possible to keep your data types homogeneous, which\n",
    "# means all the same, in the array"
   ]
  },
  {
   "cell_type": "code",
   "execution_count": 8,
   "metadata": {},
   "outputs": [
    {
     "name": "stdout",
     "output_type": "stream",
     "text": [
      "[[0. 0. 0.]\n",
      " [0. 0. 0.]]\n",
      "[[1. 1. 1.]\n",
      " [1. 1. 1.]]\n"
     ]
    }
   ],
   "source": [
    "# Sometimes we know the shape of an array that we want to create, but not what we want to be in it. numpy\n",
    "# offers several functions to create arrays with initial placeholders, such as zero's or one's.\n",
    "# Lets create two arrays, both the same shape but with different filler values\n",
    "d = np.zeros((2,3))\n",
    "print(d)\n",
    "\n",
    "e = np.ones((2,3))\n",
    "print(e)"
   ]
  },
  {
   "cell_type": "code",
   "execution_count": 9,
   "metadata": {},
   "outputs": [
    {
     "data": {
      "text/plain": [
       "array([[0.1078525 , 0.07789653, 0.25906896],\n",
       "       [0.90417908, 0.75385854, 0.42647088]])"
      ]
     },
     "execution_count": 9,
     "metadata": {},
     "output_type": "execute_result"
    }
   ],
   "source": [
    "# We can also generate an array with random numbers\n",
    "np.random.rand(2,3)"
   ]
  },
  {
   "cell_type": "code",
   "execution_count": 13,
   "metadata": {},
   "outputs": [],
   "source": [
    "# You'll see zeros, ones, and rand used quite often to create example arrays, especially in stack overflow\n",
    "# posts and other forums."
   ]
  },
  {
   "cell_type": "code",
   "execution_count": 14,
   "metadata": {},
   "outputs": [
    {
     "data": {
      "text/plain": [
       "array([10, 12, 14, 16, 18, 20, 22, 24, 26, 28, 30, 32, 34, 36, 38, 40, 42,\n",
       "       44, 46, 48])"
      ]
     },
     "execution_count": 14,
     "metadata": {},
     "output_type": "execute_result"
    }
   ],
   "source": [
    "# We can also create a sequence of numbers in an array with the arrange() function. The fist argument is the\n",
    "# starting bound and the second argument is the ending bound, and the third argument is the difference between\n",
    "# each consecutive numbers\n",
    "\n",
    "# Let's create an array of every even number from ten (inclusive) to fifty (exclusive)\n",
    "f = np.arange(10, 50, 2)\n",
    "f"
   ]
  },
  {
   "cell_type": "code",
   "execution_count": 15,
   "metadata": {},
   "outputs": [
    {
     "data": {
      "text/plain": [
       "array([0.        , 0.14285714, 0.28571429, 0.42857143, 0.57142857,\n",
       "       0.71428571, 0.85714286, 1.        , 1.14285714, 1.28571429,\n",
       "       1.42857143, 1.57142857, 1.71428571, 1.85714286, 2.        ])"
      ]
     },
     "execution_count": 15,
     "metadata": {},
     "output_type": "execute_result"
    }
   ],
   "source": [
    "# if we want to generate a sequence of floats, we can use the linspace() function. In this function the third\n",
    "# argument isn't the difference between two numbers, but the total number of items you want to generate\n",
    "np.linspace( 0, 2, 15 ) # 15 numbers from 0 (inclusive) to 2 (inclusive)"
   ]
  },
  {
   "cell_type": "markdown",
   "metadata": {},
   "source": [
    "# Array Operations"
   ]
  },
  {
   "cell_type": "code",
   "execution_count": 16,
   "metadata": {},
   "outputs": [],
   "source": [
    "# We can do many things on arrays, such as mathematical manipulation (addition, subtraction, square,\n",
    "# exponents) as well as use boolean arrays, which are binary values. We can also do matrix manipulation such\n",
    "# as product, transpose, inverse, and so forth."
   ]
  },
  {
   "cell_type": "code",
   "execution_count": 17,
   "metadata": {},
   "outputs": [
    {
     "name": "stdout",
     "output_type": "stream",
     "text": [
      "[ 9 18 27 36]\n",
      "[ 10  40  90 160]\n"
     ]
    }
   ],
   "source": [
    "# Arithmetic operators on array apply elementwise.\n",
    "\n",
    "# Let's create a couple of arrays\n",
    "a = np.array([10,20,30,40])\n",
    "b = np.array([1, 2, 3,4])\n",
    "\n",
    "# Now let's look at a minus b\n",
    "c = a-b\n",
    "print(c)\n",
    "\n",
    "# And let's look at a times b\n",
    "d = a*b\n",
    "print(d)"
   ]
  },
  {
   "cell_type": "code",
   "execution_count": 18,
   "metadata": {},
   "outputs": [
    {
     "data": {
      "text/plain": [
       "array([-17.22222222, -22.77777778, -20.        , -25.55555556,\n",
       "       -17.22222222])"
      ]
     },
     "execution_count": 18,
     "metadata": {},
     "output_type": "execute_result"
    }
   ],
   "source": [
    "# With arithmetic manipulation, we can convert current data to the way we want it to be. Here's a real-world\n",
    "# problem I face - I moved down to the United States about 6 years ago from Canada. In Canada we use celcius\n",
    "# for temperatures, and my wife still hasn't converted to the US system which uses farenheit. With numpy I \n",
    "# could easily convert a number of farenheit values, say the weather forecase, to ceclius\n",
    "\n",
    "# Let's create an array of typical Ann Arbor winter farenheit values\n",
    "farenheit = np.array([0,-10,-5,-15,0])\n",
    "\n",
    "# And the formula for conversion is ((°F − 32) × 5/9 = °C)\n",
    "celcius = (farenheit - 31) * (5/9)\n",
    "celcius"
   ]
  },
  {
   "cell_type": "code",
   "execution_count": 20,
   "metadata": {},
   "outputs": [
    {
     "data": {
      "text/plain": [
       "array([ True, False, False, False,  True])"
      ]
     },
     "execution_count": 20,
     "metadata": {},
     "output_type": "execute_result"
    }
   ],
   "source": [
    "# Another useful and important manipulation is the boolean array. We can apply an operator on an array, and a\n",
    "# boolean array will be returned for any element in the original, with True being emitted if it meets the condition and False oetherwise.\n",
    "# For instance, if we want to get a boolean array to check celcius degrees that are greater than -20 degrees\n",
    "celcius > -20"
   ]
  },
  {
   "cell_type": "code",
   "execution_count": 21,
   "metadata": {},
   "outputs": [
    {
     "data": {
      "text/plain": [
       "array([False, False,  True, False, False])"
      ]
     },
     "execution_count": 21,
     "metadata": {},
     "output_type": "execute_result"
    }
   ],
   "source": [
    "# Here's another example, we could use the modulus operator to check numbers in an array to see if they are even. Recall that modulus does division but throws away everything but the remainder (decimal) portion)\n",
    "celcius%2 == 0"
   ]
  },
  {
   "cell_type": "code",
   "execution_count": 22,
   "metadata": {},
   "outputs": [
    {
     "name": "stdout",
     "output_type": "stream",
     "text": [
      "[[2 0]\n",
      " [0 4]]\n",
      "[[5 4]\n",
      " [3 4]]\n"
     ]
    }
   ],
   "source": [
    "# Besides elementwise manipulation, it is important to know that numpy supports matrix manipulation. Let's\n",
    "# look at matrix product. if we want to do elementwise product, we use the \"*\" sign\n",
    "A = np.array([[1,1],[0,1]])\n",
    "B = np.array([[2,0],[3,4]])\n",
    "print(A*B)\n",
    "\n",
    "# if we want to do matrix product, we use the \"@\" sign or use the dot function\n",
    "print(A@B)"
   ]
  },
  {
   "cell_type": "code",
   "execution_count": 23,
   "metadata": {},
   "outputs": [],
   "source": [
    "# You don't have to worry about complex matrix operations for this course, but it's important to know that\n",
    "# numpy is the underpinning of scientific computing libraries in python, and that it is capable of doing both\n",
    "# element-wise operations (the asterix) as well as matrix-level operations (the @ sign). There's more on this\n",
    "# in a subsequent course."
   ]
  },
  {
   "cell_type": "code",
   "execution_count": 25,
   "metadata": {},
   "outputs": [
    {
     "name": "stdout",
     "output_type": "stream",
     "text": [
      "int64\n",
      "float64\n"
     ]
    }
   ],
   "source": [
    "# When manipulating arrays of different types, the type of the resulting array will correspond to \n",
    "# the more general of the two types. This is called upcasting.\n",
    "\n",
    "# Let's create an array of integers\n",
    "array1 = np.array([[1, 2, 3], [4, 5, 6]])\n",
    "print(array1.dtype)\n",
    "\n",
    "# Now let's create an array of floats\n",
    "array2 = np.array([[7.1, 8.2, 9.1], [10.4, 11.2, 12.3]])\n",
    "print(array2.dtype)"
   ]
  },
  {
   "cell_type": "code",
   "execution_count": 31,
   "metadata": {},
   "outputs": [],
   "source": [
    "# Now, we often think about two dimensional arrays being made up of rows and columns, but you can also think\n",
    "# of these arrays as just a giant ordered list of numbers, and the *shape* of the array, the number of rows\n",
    "# and columns, is just an abstraction that we have for a particular purpose. Actually, this is exactly how\n",
    "# basic images are stored in computer environments.\n",
    "\n",
    "# Let's take a look at an example and see how numpy comes into play."
   ]
  },
  {
   "cell_type": "code",
   "execution_count": 10,
   "metadata": {},
   "outputs": [
    {
     "data": {
      "image/png": "[encoded data removed]",
      "text/plain": [
       "<PIL.TiffImagePlugin.TiffImageFile image mode=L size=200x200 at 0x109128EB0>"
      ]
     },
     "metadata": {},
     "output_type": "display_data"
    }
   ],
   "source": [
    "# For this demonstration I'll use the python imaging library (PIL) and a function to display images in the\n",
    "# Jupyter notebook\n",
    "from PIL import Image\n",
    "from IPython.display import display\n",
    "\n",
    "# And let's just look at the image I'm talking about\n",
    "im = Image.open('images/chris.tiff')\n",
    "display(im)"
   ]
  },
  {
   "cell_type": "code",
   "execution_count": 11,
   "metadata": {},
   "outputs": [
    {
     "name": "stdout",
     "output_type": "stream",
     "text": [
      "(200, 200)\n"
     ]
    },
    {
     "data": {
      "text/plain": [
       "array([[118, 117, 118, ..., 103, 107, 110],\n",
       "       [113, 113, 113, ..., 100, 103, 106],\n",
       "       [108, 108, 107, ...,  95,  98, 102],\n",
       "       ...,\n",
       "       [177, 181, 182, ..., 193, 198, 192],\n",
       "       [178, 182, 183, ..., 193, 201, 189],\n",
       "       [178, 182, 184, ..., 193, 201, 187]], dtype=uint8)"
      ]
     },
     "execution_count": 11,
     "metadata": {},
     "output_type": "execute_result"
    }
   ],
   "source": [
    "# Now, we can convert this PIL image to a numpy array\n",
    "array=np.array(im)\n",
    "print(array.shape)\n",
    "array"
   ]
  },
  {
   "cell_type": "code",
   "execution_count": 12,
   "metadata": {},
   "outputs": [
    {
     "data": {
      "text/plain": [
       "array([[255, 255, 255, ..., 255, 255, 255],\n",
       "       [255, 255, 255, ..., 255, 255, 255],\n",
       "       [255, 255, 255, ..., 255, 255, 255],\n",
       "       ...,\n",
       "       [255, 255, 255, ..., 255, 255, 255],\n",
       "       [255, 255, 255, ..., 255, 255, 255],\n",
       "       [255, 255, 255, ..., 255, 255, 255]])"
      ]
     },
     "execution_count": 12,
     "metadata": {},
     "output_type": "execute_result"
    }
   ],
   "source": [
    "# Here we see that we have a 200x200 array and that the values are all uint8. The uint means that they are\n",
    "# unsigned integers (so no negative numbers) and the 8 means 8 bits per byte. This means that each value can\n",
    "# be up to 2*2*2*2*2*2*2*2=256 in size (well, actually 255, because we start at zero). For black and white\n",
    "# images black is stored as 0 and white is stored as 255. So if we just wanted to invert this image we could\n",
    "# use the numpy array to do so\n",
    "\n",
    "# Let's create an array the same shape\n",
    "mask=np.full(array.shape,255)\n",
    "mask"
   ]
  },
  {
   "cell_type": "code",
   "execution_count": 13,
   "metadata": {},
   "outputs": [
    {
     "data": {
      "text/plain": [
       "array([[137, 138, 137, ..., 152, 148, 145],\n",
       "       [142, 142, 142, ..., 155, 152, 149],\n",
       "       [147, 147, 148, ..., 160, 157, 153],\n",
       "       ...,\n",
       "       [ 78,  74,  73, ...,  62,  57,  63],\n",
       "       [ 77,  73,  72, ...,  62,  54,  66],\n",
       "       [ 77,  73,  71, ...,  62,  54,  68]], dtype=uint8)"
      ]
     },
     "execution_count": 13,
     "metadata": {},
     "output_type": "execute_result"
    }
   ],
   "source": [
    "# Now let's subtract that from the modified array\n",
    "modified_array=array-mask\n",
    "\n",
    "# And lets convert all of the negative values to positive values\n",
    "modified_array=modified_array*-1\n",
    "\n",
    "# And as a last step, let's tell numpy to set the value of the datatype correctly\n",
    "modified_array=modified_array.astype(np.uint8)\n",
    "modified_array"
   ]
  },
  {
   "cell_type": "code",
   "execution_count": 14,
   "metadata": {},
   "outputs": [
    {
     "data": {
      "image/png": "[encoded data removed]",
      "text/plain": [
       "<PIL.Image.Image image mode=L size=200x200 at 0x1044988E0>"
      ]
     },
     "metadata": {},
     "output_type": "display_data"
    }
   ],
   "source": [
    "# And lastly, lets display this new array. We do this by using the fromarray() function in the python\n",
    "# imaging library to convert the numpy array into an object jupyter can render\n",
    "display(Image.fromarray(modified_array))"
   ]
  },
  {
   "cell_type": "markdown",
   "metadata": {},
   "source": [
    "# Indexing, Slicing and Iterating"
   ]
  },
  {
   "cell_type": "code",
   "execution_count": 16,
   "metadata": {},
   "outputs": [],
   "source": [
    "# Indexing, slicing and iterating are extremely important for data manipulation and analysis because these\n",
    "# techinques allow us to select data based on conditions, and copy or update data."
   ]
  },
  {
   "cell_type": "markdown",
   "metadata": {},
   "source": [
    "## Indexing"
   ]
  },
  {
   "cell_type": "code",
   "execution_count": 20,
   "metadata": {},
   "outputs": [
    {
     "data": {
      "text/plain": [
       "5"
      ]
     },
     "execution_count": 20,
     "metadata": {},
     "output_type": "execute_result"
    }
   ],
   "source": [
    "# First we are going to look at integer indexing. A one-dimensional array, works in similar ways as a list -\n",
    "# To get an element in a one-dimensional array, we simply use the offset index.\n",
    "a = np.array([1,3,5,7])\n",
    "a[2]"
   ]
  },
  {
   "cell_type": "code",
   "execution_count": 21,
   "metadata": {},
   "outputs": [
    {
     "data": {
      "text/plain": [
       "array([[1, 2],\n",
       "       [3, 4],\n",
       "       [5, 6]])"
      ]
     },
     "execution_count": 21,
     "metadata": {},
     "output_type": "execute_result"
    }
   ],
   "source": [
    "# For multidimensional array, we need to use integer array indexing, let's create a new multidimensional array\n",
    "a = np.array([[1,2], [3, 4], [5, 6]])\n",
    "a"
   ]
  },
  {
   "cell_type": "code",
   "execution_count": 22,
   "metadata": {},
   "outputs": [
    {
     "data": {
      "text/plain": [
       "4"
      ]
     },
     "execution_count": 22,
     "metadata": {},
     "output_type": "execute_result"
    }
   ],
   "source": [
    "# if we want to select one certain element, we can do so by entering the index, which is comprised of two\n",
    "# integers the first being the row, and the second the column\n",
    "a[1,1] # remember in python we start at 0!"
   ]
  },
  {
   "cell_type": "markdown",
   "metadata": {},
   "source": [
    "## Boolean Indexing"
   ]
  },
  {
   "cell_type": "code",
   "execution_count": 23,
   "metadata": {},
   "outputs": [
    {
     "name": "stdout",
     "output_type": "stream",
     "text": [
      "[[False False]\n",
      " [False False]\n",
      " [False  True]]\n"
     ]
    }
   ],
   "source": [
    "# Boolean indexing allows us to select arbitrary elements based on conditions. For example, in the matrix we\n",
    "# just talked about we want to find elements that are greater than 5 so we set up a conditon a > 5 \n",
    "print(a >5)\n",
    "# This returns a boolean array showing that if the value at the corresponding index is greater than 5"
   ]
  },
  {
   "cell_type": "code",
   "execution_count": 24,
   "metadata": {},
   "outputs": [
    {
     "name": "stdout",
     "output_type": "stream",
     "text": [
      "[6]\n"
     ]
    }
   ],
   "source": [
    "# We can then place this array of booleans like a mask over the original array to return a one-dimensional \n",
    "# array relating to the true values.\n",
    "print(a[a>5])"
   ]
  },
  {
   "cell_type": "code",
   "execution_count": 39,
   "metadata": {},
   "outputs": [],
   "source": [
    "# As we will see, this functionality is essential in the pandas toolkit which is the bulk of this course"
   ]
  },
  {
   "cell_type": "markdown",
   "metadata": {},
   "source": [
    "## Slicing"
   ]
  },
  {
   "cell_type": "code",
   "execution_count": 25,
   "metadata": {},
   "outputs": [
    {
     "name": "stdout",
     "output_type": "stream",
     "text": [
      "[0 1 2]\n"
     ]
    }
   ],
   "source": [
    "# Slicing is a way to create a sub-array based on the original array. For one-dimensional arrays, slicing \n",
    "# works in similar ways to a list. To slice, we use the : sign. For instance, if we put :3 in the indexing\n",
    "# brackets, we get elements from index 0 to index 3 (excluding index 3)\n",
    "a = np.array([0,1,2,3,4,5])\n",
    "print(a[:3])"
   ]
  },
  {
   "cell_type": "code",
   "execution_count": 41,
   "metadata": {},
   "outputs": [
    {
     "name": "stdout",
     "output_type": "stream",
     "text": [
      "[2 3]\n"
     ]
    }
   ],
   "source": [
    "# By putting 2:4 in the bracket, we get elements from index 2 to index 4 (excluding index 4)\n",
    "print(a[2:4])"
   ]
  },
  {
   "cell_type": "code",
   "execution_count": 42,
   "metadata": {},
   "outputs": [
    {
     "data": {
      "text/plain": [
       "array([[ 1,  2,  3,  4],\n",
       "       [ 5,  6,  7,  8],\n",
       "       [ 9, 10, 11, 12]])"
      ]
     },
     "execution_count": 42,
     "metadata": {},
     "output_type": "execute_result"
    }
   ],
   "source": [
    "# For multi-dimensional arrays, it works similarly, lets see an example\n",
    "a = np.array([[1,2,3,4], [5,6,7,8], [9,10,11,12]])\n",
    "a"
   ]
  },
  {
   "cell_type": "code",
   "execution_count": 43,
   "metadata": {},
   "outputs": [
    {
     "data": {
      "text/plain": [
       "array([[1, 2, 3, 4],\n",
       "       [5, 6, 7, 8]])"
      ]
     },
     "execution_count": 43,
     "metadata": {},
     "output_type": "execute_result"
    }
   ],
   "source": [
    "# First, if we put one argument in the array, for example a[:2] then we would get all the elements from the \n",
    "# first (0th) and second row (1th)\n",
    "a[:2]"
   ]
  },
  {
   "cell_type": "code",
   "execution_count": 44,
   "metadata": {},
   "outputs": [
    {
     "data": {
      "text/plain": [
       "array([[2, 3],\n",
       "       [6, 7]])"
      ]
     },
     "execution_count": 44,
     "metadata": {},
     "output_type": "execute_result"
    }
   ],
   "source": [
    "# If we add another argument to the array, for example a[:2, 1:3], we get the first two rows but then the\n",
    "# second and third column values only\n",
    "a[:2, 1:3]"
   ]
  },
  {
   "cell_type": "code",
   "execution_count": 45,
   "metadata": {},
   "outputs": [],
   "source": [
    "# So, in multidimensional arrays, the first argument is for selecting rows, and the second argument is for \n",
    "# selecting columns"
   ]
  },
  {
   "cell_type": "code",
   "execution_count": 46,
   "metadata": {},
   "outputs": [
    {
     "name": "stdout",
     "output_type": "stream",
     "text": [
      "sub array index [0,0] value before change: 2\n",
      "sub array index [0,0] value after change: 50\n",
      "original array index [0,1] value after change: 50\n"
     ]
    }
   ],
   "source": [
    "# It is important to realize that a slice of an array is a view into the same data. This is called passing by\n",
    "# reference. So modifying the sub array will consequently modify the original array\n",
    "\n",
    "# Here I'll change the element at position [0, 0], which is 2, to 50, then we can see that the value in the\n",
    "# original array is changed to 50 as well\n",
    "\n",
    "sub_array = a[:2, 1:3]\n",
    "print(\"sub array index [0,0] value before change:\", sub_array[0,0])\n",
    "sub_array[0,0] = 50\n",
    "print(\"sub array index [0,0] value after change:\", sub_array[0,0])\n",
    "print(\"original array index [0,1] value after change:\", a[0,1])"
   ]
  }
 ],
 "metadata": {
  "kernelspec": {
   "display_name": "Python 3",
   "language": "python",
   "name": "python3"
  },
  "language_info": {
   "codemirror_mode": {
    "name": "ipython",
    "version": 3
   },
   "file_extension": ".py",
   "mimetype": "text/x-python",
   "name": "python",
   "nbconvert_exporter": "python",
   "pygments_lexer": "ipython3",
   "version": "3.9.5"
  }
 },
 "nbformat": 4,
 "nbformat_minor": 2
}
