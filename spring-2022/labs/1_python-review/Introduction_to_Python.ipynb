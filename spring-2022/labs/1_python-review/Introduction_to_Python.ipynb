{
  "nbformat": 4,
  "nbformat_minor": 0,
  "metadata": {
    "colab": {
      "name": "Introduction_to Python.ipynb",
      "provenance": [],
      "collapsed_sections": [
        "nCwJd3IVz8HA",
        "hRFxgoC-0bcl",
        "KNL9mDs91wLd",
        "O0zbv0KT18KG",
        "cgU5VeYE1-ae",
        "8cs1DHGi0BR5",
        "36KgktlE1LHQ",
        "YD3yKcGl1roS",
        "KdghfuaR2RRh",
        "M8zn83zS0DTk"
      ]
    },
    "kernelspec": {
      "name": "python3",
      "display_name": "Python 3"
    },
    "language_info": {
      "name": "python"
    }
  },
  "cells": [
    {
      "cell_type": "markdown",
      "source": [
        "# import libraries"
      ],
      "metadata": {
        "id": "nCwJd3IVz8HA"
      }
    },
    {
      "cell_type": "code",
      "source": [
        "!pip install numpy"
      ],
      "metadata": {
        "id": "0GFtpEPGdaCe"
      },
      "execution_count": null,
      "outputs": []
    },
    {
      "cell_type": "code",
      "source": [
        "import numpy\n",
        "import numpy as np\n",
        "\n",
        "from math import pi\n",
        "from math import *\n",
        "import keyword"
      ],
      "metadata": {
        "id": "wWolpOiwxvda"
      },
      "execution_count": 37,
      "outputs": []
    },
    {
      "cell_type": "code",
      "source": [
        "pi"
      ],
      "metadata": {
        "colab": {
          "base_uri": "https://localhost:8080/"
        },
        "id": "Dz5Z4YuXyDcM",
        "outputId": "b939c5a9-d602-49ee-874b-77ccdeaf9153"
      },
      "execution_count": 38,
      "outputs": [
        {
          "output_type": "execute_result",
          "data": {
            "text/plain": [
              "3.141592653589793"
            ]
          },
          "metadata": {},
          "execution_count": 38
        }
      ]
    },
    {
      "cell_type": "code",
      "source": [
        "sqrt(4)"
      ],
      "metadata": {
        "colab": {
          "base_uri": "https://localhost:8080/"
        },
        "id": "C-KJI7WvyE6C",
        "outputId": "1d742a82-d681-421c-8d65-fba5ca6585cf"
      },
      "execution_count": 3,
      "outputs": [
        {
          "output_type": "execute_result",
          "data": {
            "text/plain": [
              "2.0"
            ]
          },
          "metadata": {},
          "execution_count": 3
        }
      ]
    },
    {
      "cell_type": "markdown",
      "source": [
        "# keyword"
      ],
      "metadata": {
        "id": "hRFxgoC-0bcl"
      }
    },
    {
      "cell_type": "markdown",
      "source": [
        "introduction to basic syntax and data types"
      ],
      "metadata": {
        "id": "-io-J8k5zyit"
      }
    },
    {
      "cell_type": "code",
      "execution_count": 4,
      "metadata": {
        "id": "2CVUyTa0zrUj",
        "colab": {
          "base_uri": "https://localhost:8080/"
        },
        "outputId": "278c094f-6dae-49a6-9541-87134a28992a"
      },
      "outputs": [
        {
          "output_type": "execute_result",
          "data": {
            "text/plain": [
              "['False',\n",
              " 'None',\n",
              " 'True',\n",
              " 'and',\n",
              " 'as',\n",
              " 'assert',\n",
              " 'async',\n",
              " 'await',\n",
              " 'break',\n",
              " 'class',\n",
              " 'continue',\n",
              " 'def',\n",
              " 'del',\n",
              " 'elif',\n",
              " 'else',\n",
              " 'except',\n",
              " 'finally',\n",
              " 'for',\n",
              " 'from',\n",
              " 'global',\n",
              " 'if',\n",
              " 'import',\n",
              " 'in',\n",
              " 'is',\n",
              " 'lambda',\n",
              " 'nonlocal',\n",
              " 'not',\n",
              " 'or',\n",
              " 'pass',\n",
              " 'raise',\n",
              " 'return',\n",
              " 'try',\n",
              " 'while',\n",
              " 'with',\n",
              " 'yield']"
            ]
          },
          "metadata": {},
          "execution_count": 4
        }
      ],
      "source": [
        "keyword.kwlist"
      ]
    },
    {
      "cell_type": "markdown",
      "source": [
        "# Operators"
      ],
      "metadata": {
        "id": "jXWkfFCLbaNg"
      }
    },
    {
      "cell_type": "code",
      "source": [
        "a = 4\n",
        "b = 6"
      ],
      "metadata": {
        "id": "ALP703tsbcB0"
      },
      "execution_count": 5,
      "outputs": []
    },
    {
      "cell_type": "code",
      "source": [
        "a + b"
      ],
      "metadata": {
        "colab": {
          "base_uri": "https://localhost:8080/"
        },
        "id": "KpudvU-jbhUz",
        "outputId": "b85c767a-6761-4f2b-9c8a-75372d918155"
      },
      "execution_count": 6,
      "outputs": [
        {
          "output_type": "execute_result",
          "data": {
            "text/plain": [
              "10"
            ]
          },
          "metadata": {},
          "execution_count": 6
        }
      ]
    },
    {
      "cell_type": "code",
      "source": [
        "b / a"
      ],
      "metadata": {
        "colab": {
          "base_uri": "https://localhost:8080/"
        },
        "id": "U_RaNIFKc60p",
        "outputId": "d5b5e186-9e6b-4195-d0b4-d22217062645"
      },
      "execution_count": 7,
      "outputs": [
        {
          "output_type": "execute_result",
          "data": {
            "text/plain": [
              "1.5"
            ]
          },
          "metadata": {},
          "execution_count": 7
        }
      ]
    },
    {
      "cell_type": "code",
      "source": [
        "b // a"
      ],
      "metadata": {
        "colab": {
          "base_uri": "https://localhost:8080/"
        },
        "id": "mk9R62x3c8qy",
        "outputId": "56464412-0a65-4018-907a-db840094a7d4"
      },
      "execution_count": 8,
      "outputs": [
        {
          "output_type": "execute_result",
          "data": {
            "text/plain": [
              "1"
            ]
          },
          "metadata": {},
          "execution_count": 8
        }
      ]
    },
    {
      "cell_type": "code",
      "source": [
        "b % a"
      ],
      "metadata": {
        "colab": {
          "base_uri": "https://localhost:8080/"
        },
        "id": "xrR2S1RLdHKL",
        "outputId": "cef96c75-cb60-4099-ee41-ac78dca0b578"
      },
      "execution_count": 9,
      "outputs": [
        {
          "output_type": "execute_result",
          "data": {
            "text/plain": [
              "2"
            ]
          },
          "metadata": {},
          "execution_count": 9
        }
      ]
    },
    {
      "cell_type": "code",
      "source": [
        "a ** 2"
      ],
      "metadata": {
        "colab": {
          "base_uri": "https://localhost:8080/"
        },
        "id": "cdyt_P5tdEKB",
        "outputId": "d5a701e8-c456-42cf-ed10-f6e73fdff62b"
      },
      "execution_count": 10,
      "outputs": [
        {
          "output_type": "execute_result",
          "data": {
            "text/plain": [
              "16"
            ]
          },
          "metadata": {},
          "execution_count": 10
        }
      ]
    },
    {
      "cell_type": "code",
      "source": [
        "a == b"
      ],
      "metadata": {
        "colab": {
          "base_uri": "https://localhost:8080/"
        },
        "id": "IzAaJBlTdVzX",
        "outputId": "a6f5e170-349f-40ca-8483-36ec8d8d445c"
      },
      "execution_count": 11,
      "outputs": [
        {
          "output_type": "execute_result",
          "data": {
            "text/plain": [
              "False"
            ]
          },
          "metadata": {},
          "execution_count": 11
        }
      ]
    },
    {
      "cell_type": "code",
      "source": [
        "a != b"
      ],
      "metadata": {
        "colab": {
          "base_uri": "https://localhost:8080/"
        },
        "id": "vUkvutRFdZQR",
        "outputId": "8a6083d2-f944-4c31-ea1d-f200df05b2d5"
      },
      "execution_count": 12,
      "outputs": [
        {
          "output_type": "execute_result",
          "data": {
            "text/plain": [
              "True"
            ]
          },
          "metadata": {},
          "execution_count": 12
        }
      ]
    },
    {
      "cell_type": "code",
      "source": [
        "a < b"
      ],
      "metadata": {
        "colab": {
          "base_uri": "https://localhost:8080/"
        },
        "id": "Ew-hRvKHdbbx",
        "outputId": "8a18f576-de27-40b9-fc22-3c4f3f90ce35"
      },
      "execution_count": 13,
      "outputs": [
        {
          "output_type": "execute_result",
          "data": {
            "text/plain": [
              "True"
            ]
          },
          "metadata": {},
          "execution_count": 13
        }
      ]
    },
    {
      "cell_type": "code",
      "source": [
        "a <= 4"
      ],
      "metadata": {
        "colab": {
          "base_uri": "https://localhost:8080/"
        },
        "id": "doGvH-cXdfyr",
        "outputId": "c8eb427d-3382-4245-8ed2-b38a33182c34"
      },
      "execution_count": 14,
      "outputs": [
        {
          "output_type": "execute_result",
          "data": {
            "text/plain": [
              "True"
            ]
          },
          "metadata": {},
          "execution_count": 14
        }
      ]
    },
    {
      "cell_type": "markdown",
      "source": [
        "# identifiers "
      ],
      "metadata": {
        "id": "KNL9mDs91wLd"
      }
    },
    {
      "cell_type": "code",
      "source": [
        "# 1a = 1\n",
        "# a@ = 1\n",
        "# def = 4\n",
        "\n",
        "var_1 = 4\n",
        "def_var = 5"
      ],
      "metadata": {
        "id": "5BFr2QcJyifk"
      },
      "execution_count": 15,
      "outputs": []
    },
    {
      "cell_type": "markdown",
      "source": [
        "# comments"
      ],
      "metadata": {
        "id": "O0zbv0KT18KG"
      }
    },
    {
      "cell_type": "code",
      "source": [
        "# single line \n",
        "\n",
        "'''\n",
        "single\n",
        "lines\n",
        "'''"
      ],
      "metadata": {
        "id": "3R1H9gYhywla"
      },
      "execution_count": null,
      "outputs": []
    },
    {
      "cell_type": "markdown",
      "source": [
        "# statements"
      ],
      "metadata": {
        "id": "cgU5VeYE1-ae"
      }
    },
    {
      "cell_type": "code",
      "source": [
        "p = 10 + 20"
      ],
      "metadata": {
        "id": "Ot9iyj9G17aB"
      },
      "execution_count": 16,
      "outputs": []
    },
    {
      "cell_type": "code",
      "source": [
        "p = 10 \\\n",
        "    + 30\n",
        "p"
      ],
      "metadata": {
        "colab": {
          "base_uri": "https://localhost:8080/"
        },
        "id": "wVrz5jSIz4gi",
        "outputId": "e50c07c1-e0e6-41f1-e24d-8899926432aa"
      },
      "execution_count": 17,
      "outputs": [
        {
          "output_type": "execute_result",
          "data": {
            "text/plain": [
              "40"
            ]
          },
          "metadata": {},
          "execution_count": 17
        }
      ]
    },
    {
      "cell_type": "markdown",
      "source": [
        "# variables"
      ],
      "metadata": {
        "id": "8cs1DHGi0BR5"
      }
    },
    {
      "cell_type": "code",
      "source": [
        "var = 30"
      ],
      "metadata": {
        "id": "SqmLtCFZ0O1Q"
      },
      "execution_count": 19,
      "outputs": []
    },
    {
      "cell_type": "code",
      "source": [
        "id(var)"
      ],
      "metadata": {
        "colab": {
          "base_uri": "https://localhost:8080/"
        },
        "id": "DAqFv1uG0YOi",
        "outputId": "e4762f79-2f06-443a-a129-cc75d68441f6"
      },
      "execution_count": 20,
      "outputs": [
        {
          "output_type": "execute_result",
          "data": {
            "text/plain": [
              "94558022151584"
            ]
          },
          "metadata": {},
          "execution_count": 20
        }
      ]
    },
    {
      "cell_type": "code",
      "source": [
        "hex(id(var))"
      ],
      "metadata": {
        "colab": {
          "base_uri": "https://localhost:8080/",
          "height": 35
        },
        "id": "h4SzWkfY0afB",
        "outputId": "7e4639ac-137a-49b7-ade0-c058e49645ab"
      },
      "execution_count": 21,
      "outputs": [
        {
          "output_type": "execute_result",
          "data": {
            "text/plain": [
              "'0x560001522da0'"
            ],
            "application/vnd.google.colaboratory.intrinsic+json": {
              "type": "string"
            }
          },
          "metadata": {},
          "execution_count": 21
        }
      ]
    },
    {
      "cell_type": "code",
      "source": [
        "type(var)"
      ],
      "metadata": {
        "colab": {
          "base_uri": "https://localhost:8080/"
        },
        "id": "9EPQqvbn0faS",
        "outputId": "f5f2ccaa-9f3d-485b-f384-857385b8d643"
      },
      "execution_count": 22,
      "outputs": [
        {
          "output_type": "execute_result",
          "data": {
            "text/plain": [
              "int"
            ]
          },
          "metadata": {},
          "execution_count": 22
        }
      ]
    },
    {
      "cell_type": "markdown",
      "source": [
        "## numeric"
      ],
      "metadata": {
        "id": "36KgktlE1LHQ"
      }
    },
    {
      "cell_type": "code",
      "source": [
        "# integer data type\n",
        "var_int = 10\n",
        "# float data type\n",
        "var_float = 10.0\n",
        "# complex data type\n",
        "var_cmplex = 10 + 1j"
      ],
      "metadata": {
        "id": "kL_8Zyli0i45"
      },
      "execution_count": 23,
      "outputs": []
    },
    {
      "cell_type": "code",
      "source": [
        "print(type(var_int))\n",
        "print(type(var_float))\n",
        "print(type(var_cmplex))"
      ],
      "metadata": {
        "colab": {
          "base_uri": "https://localhost:8080/"
        },
        "id": "2KaJ7UBv0sjY",
        "outputId": "fec9ecf7-da9c-420e-a2ba-de59f7090db3"
      },
      "execution_count": 24,
      "outputs": [
        {
          "output_type": "stream",
          "name": "stdout",
          "text": [
            "<class 'int'>\n",
            "<class 'float'>\n",
            "<class 'complex'>\n"
          ]
        }
      ]
    },
    {
      "cell_type": "markdown",
      "source": [
        "## boolean"
      ],
      "metadata": {
        "id": "YD3yKcGl1roS"
      }
    },
    {
      "cell_type": "code",
      "source": [
        "var_t = True\n",
        "var_f = False"
      ],
      "metadata": {
        "id": "0Hfy8FqT1tih"
      },
      "execution_count": 25,
      "outputs": []
    },
    {
      "cell_type": "code",
      "source": [
        "print(type(var_t))\n",
        "print(type(var_f))"
      ],
      "metadata": {
        "colab": {
          "base_uri": "https://localhost:8080/"
        },
        "id": "vALBLRS912qW",
        "outputId": "6507bf68-7d45-4a89-aafb-24d733a522d3"
      },
      "execution_count": 26,
      "outputs": [
        {
          "output_type": "stream",
          "name": "stdout",
          "text": [
            "<class 'bool'>\n",
            "<class 'bool'>\n"
          ]
        }
      ]
    },
    {
      "cell_type": "code",
      "source": [
        "if 3:\n",
        "  print('three')"
      ],
      "metadata": {
        "colab": {
          "base_uri": "https://localhost:8080/"
        },
        "id": "f5ptKWIG190i",
        "outputId": "9a0ca9d2-f56a-466c-86c2-60f00f3d28ad"
      },
      "execution_count": 27,
      "outputs": [
        {
          "output_type": "stream",
          "name": "stdout",
          "text": [
            "three\n"
          ]
        }
      ]
    },
    {
      "cell_type": "code",
      "source": [
        "bool(1)"
      ],
      "metadata": {
        "colab": {
          "base_uri": "https://localhost:8080/"
        },
        "id": "7hzlKquG2FcW",
        "outputId": "3916eba1-5806-4871-80df-cef738bd13ae"
      },
      "execution_count": 29,
      "outputs": [
        {
          "output_type": "execute_result",
          "data": {
            "text/plain": [
              "True"
            ]
          },
          "metadata": {},
          "execution_count": 29
        }
      ]
    },
    {
      "cell_type": "code",
      "source": [
        "bool(0), bool(None)"
      ],
      "metadata": {
        "colab": {
          "base_uri": "https://localhost:8080/"
        },
        "id": "pgF2kIjd2IbB",
        "outputId": "648cd542-2d97-4b68-8035-6e1f0552c5a9"
      },
      "execution_count": 28,
      "outputs": [
        {
          "output_type": "execute_result",
          "data": {
            "text/plain": [
              "(False, False)"
            ]
          },
          "metadata": {},
          "execution_count": 28
        }
      ]
    },
    {
      "cell_type": "markdown",
      "source": [
        "## string"
      ],
      "metadata": {
        "id": "KdghfuaR2RRh"
      }
    },
    {
      "cell_type": "code",
      "source": [
        "var_str = 'my string'"
      ],
      "metadata": {
        "id": "CJJx2kmd2Sq1"
      },
      "execution_count": 30,
      "outputs": []
    },
    {
      "cell_type": "code",
      "source": [
        "var_str[0]"
      ],
      "metadata": {
        "colab": {
          "base_uri": "https://localhost:8080/",
          "height": 35
        },
        "id": "cVA0HDiE2YUZ",
        "outputId": "83c557b9-1a0a-4b48-d0d3-33b930efba5a"
      },
      "execution_count": 31,
      "outputs": [
        {
          "output_type": "execute_result",
          "data": {
            "text/plain": [
              "'m'"
            ],
            "application/vnd.google.colaboratory.intrinsic+json": {
              "type": "string"
            }
          },
          "metadata": {},
          "execution_count": 31
        }
      ]
    },
    {
      "cell_type": "code",
      "source": [
        "# string slicing\n",
        "var_str[1:3]"
      ],
      "metadata": {
        "colab": {
          "base_uri": "https://localhost:8080/",
          "height": 35
        },
        "id": "Cj3ZCxUS2elA",
        "outputId": "083f64ec-dba6-411c-fe15-dc0ebf2c7c26"
      },
      "execution_count": 32,
      "outputs": [
        {
          "output_type": "execute_result",
          "data": {
            "text/plain": [
              "'y '"
            ],
            "application/vnd.google.colaboratory.intrinsic+json": {
              "type": "string"
            }
          },
          "metadata": {},
          "execution_count": 32
        }
      ]
    },
    {
      "cell_type": "code",
      "source": [
        "var_str[-1]"
      ],
      "metadata": {
        "colab": {
          "base_uri": "https://localhost:8080/",
          "height": 35
        },
        "id": "VVLWDxLz2kOh",
        "outputId": "35e07927-d9e1-4be5-d8ae-e090d2e59000"
      },
      "execution_count": 41,
      "outputs": [
        {
          "output_type": "execute_result",
          "data": {
            "text/plain": [
              "'g'"
            ],
            "application/vnd.google.colaboratory.intrinsic+json": {
              "type": "string"
            }
          },
          "metadata": {},
          "execution_count": 41
        }
      ]
    },
    {
      "cell_type": "code",
      "source": [
        "var_str[-3:-1], var_str[-3:]"
      ],
      "metadata": {
        "colab": {
          "base_uri": "https://localhost:8080/"
        },
        "id": "uGgNbgAW2sMR",
        "outputId": "df9c6249-965d-4736-fe20-c04ca7575caa"
      },
      "execution_count": 49,
      "outputs": [
        {
          "output_type": "execute_result",
          "data": {
            "text/plain": [
              "('in', 'ing')"
            ]
          },
          "metadata": {},
          "execution_count": 49
        }
      ]
    },
    {
      "cell_type": "code",
      "source": [
        "str1 = 'hello'\n",
        "str2 = ' sara'"
      ],
      "metadata": {
        "id": "CUg_2cxX22dR"
      },
      "execution_count": 46,
      "outputs": []
    },
    {
      "cell_type": "code",
      "source": [
        "str1 + str2"
      ],
      "metadata": {
        "colab": {
          "base_uri": "https://localhost:8080/",
          "height": 35
        },
        "id": "DVNTAFWD2_XT",
        "outputId": "1139aa8f-081e-483e-a4d7-8df4e76a8308"
      },
      "execution_count": 45,
      "outputs": [
        {
          "output_type": "execute_result",
          "data": {
            "text/plain": [
              "'hellosara'"
            ],
            "application/vnd.google.colaboratory.intrinsic+json": {
              "type": "string"
            }
          },
          "metadata": {},
          "execution_count": 45
        }
      ]
    },
    {
      "cell_type": "code",
      "source": [
        "str2[0] = 't' "
      ],
      "metadata": {
        "colab": {
          "base_uri": "https://localhost:8080/",
          "height": 165
        },
        "id": "se1qq20Y3Jhw",
        "outputId": "2653966d-d415-44cd-85a0-2a7a8b0d3dab"
      },
      "execution_count": 48,
      "outputs": [
        {
          "output_type": "error",
          "ename": "TypeError",
          "evalue": "ignored",
          "traceback": [
            "\u001b[0;31m---------------------------------------------------------------------------\u001b[0m",
            "\u001b[0;31mTypeError\u001b[0m                                 Traceback (most recent call last)",
            "\u001b[0;32m<ipython-input-48-5a0bb08d258b>\u001b[0m in \u001b[0;36m<module>\u001b[0;34m()\u001b[0m\n\u001b[0;32m----> 1\u001b[0;31m \u001b[0mstr2\u001b[0m\u001b[0;34m[\u001b[0m\u001b[0;36m0\u001b[0m\u001b[0;34m]\u001b[0m \u001b[0;34m=\u001b[0m \u001b[0;34m't'\u001b[0m\u001b[0;34m\u001b[0m\u001b[0;34m\u001b[0m\u001b[0m\n\u001b[0m",
            "\u001b[0;31mTypeError\u001b[0m: 'str' object does not support item assignment"
          ]
        }
      ]
    },
    {
      "cell_type": "markdown",
      "source": [
        "# if"
      ],
      "metadata": {
        "id": "M8zn83zS0DTk"
      }
    },
    {
      "cell_type": "code",
      "source": [
        "a = 3\n",
        "if a==3:\n",
        "  print(a)"
      ],
      "metadata": {
        "colab": {
          "base_uri": "https://localhost:8080/"
        },
        "id": "IoxoqnS74kyA",
        "outputId": "6ada9c45-935f-4e73-f859-513c4c8341fe"
      },
      "execution_count": 39,
      "outputs": [
        {
          "output_type": "stream",
          "name": "stdout",
          "text": [
            "3\n"
          ]
        }
      ]
    },
    {
      "cell_type": "markdown",
      "source": [
        "# loop"
      ],
      "metadata": {
        "id": "Ezca5eXR0IS0"
      }
    },
    {
      "cell_type": "code",
      "source": [
        "a = range(4)\n",
        "for i in a:\n",
        "    print(i)"
      ],
      "metadata": {
        "colab": {
          "base_uri": "https://localhost:8080/"
        },
        "id": "zmfru8Hx5EN3",
        "outputId": "3d4bff73-4b52-4a76-90d3-a9e1c00ccd80"
      },
      "execution_count": 40,
      "outputs": [
        {
          "output_type": "stream",
          "name": "stdout",
          "text": [
            "0\n",
            "1\n",
            "2\n",
            "3\n"
          ]
        }
      ]
    },
    {
      "cell_type": "code",
      "source": [
        "str1 = 'python'\n",
        "for idx, letter in enumerate(str1):\n",
        "  print(idx, letter)"
      ],
      "metadata": {
        "colab": {
          "base_uri": "https://localhost:8080/"
        },
        "id": "1_9ss-AB5rwZ",
        "outputId": "a4f19286-0f7c-4297-9555-22d315312a87"
      },
      "execution_count": 41,
      "outputs": [
        {
          "output_type": "stream",
          "name": "stdout",
          "text": [
            "0 p\n",
            "1 y\n",
            "2 t\n",
            "3 h\n",
            "4 o\n",
            "5 n\n"
          ]
        }
      ]
    },
    {
      "cell_type": "code",
      "source": [
        "list1 = [1,2,3,4]\n",
        "list2 = ['a', 'b', 'c', 'd']"
      ],
      "metadata": {
        "id": "XR9vxM1_58A2"
      },
      "execution_count": 43,
      "outputs": []
    },
    {
      "cell_type": "code",
      "source": [
        "for i in zip(list1, list2):\n",
        "  print(i)"
      ],
      "metadata": {
        "colab": {
          "base_uri": "https://localhost:8080/"
        },
        "id": "CChpWCIg6D2H",
        "outputId": "bc9847f6-6489-4693-8e68-02a069835a76"
      },
      "execution_count": 44,
      "outputs": [
        {
          "output_type": "stream",
          "name": "stdout",
          "text": [
            "(1, 'a')\n",
            "(2, 'b')\n",
            "(3, 'c')\n",
            "(4, 'd')\n"
          ]
        }
      ]
    },
    {
      "cell_type": "code",
      "source": [
        "a = 0\n",
        "while a!=10:\n",
        "  a +=1\n",
        "\n",
        "print(a)"
      ],
      "metadata": {
        "colab": {
          "base_uri": "https://localhost:8080/"
        },
        "id": "xjYGc6gM5eOo",
        "outputId": "235687f7-5008-45d6-d46a-8f712e7a3ed0"
      },
      "execution_count": 45,
      "outputs": [
        {
          "output_type": "stream",
          "name": "stdout",
          "text": [
            "10\n"
          ]
        }
      ]
    },
    {
      "cell_type": "markdown",
      "source": [
        "# List"
      ],
      "metadata": {
        "id": "gbp2LanG3nnq"
      }
    },
    {
      "cell_type": "code",
      "source": [
        "# list creation\n",
        "my_list = []\n",
        "print(type(my_list))\n",
        "\n",
        "# add to list\n",
        "my_list.append('syntax')\n",
        "my_list.append('of')\n",
        "my_list.append('python')\n",
        "\n",
        "print('created list: {}'.format(my_list))\n",
        "\n",
        "# change the specified item\n",
        "my_list[0] = 'introduction'\n",
        "\n",
        "print('updated list: {}'.format(my_list))\n",
        "\n",
        "# remove from list\n",
        "my_list.remove('python')\n",
        "\n",
        "print('updated list: {}'.format(my_list))\n"
      ],
      "metadata": {
        "colab": {
          "base_uri": "https://localhost:8080/"
        },
        "id": "yIJR8-BPDz-s",
        "outputId": "d7aa0477-69bb-48a9-f9ff-949f47d01c98"
      },
      "execution_count": 82,
      "outputs": [
        {
          "output_type": "stream",
          "name": "stdout",
          "text": [
            "<class 'list'>\n",
            "created list: ['syntax', 'of', 'python']\n",
            "updated list: ['introduction', 'of', 'python']\n",
            "updated list: ['introduction', 'of']\n"
          ]
        }
      ]
    },
    {
      "cell_type": "code",
      "source": [
        "# different data types under a list\n",
        "my_list = [1, 'one', True]"
      ],
      "metadata": {
        "id": "rMrXvZu2EK_7"
      },
      "execution_count": 89,
      "outputs": []
    },
    {
      "cell_type": "code",
      "source": [
        "# length of list\n",
        "len(my_list)"
      ],
      "metadata": {
        "colab": {
          "base_uri": "https://localhost:8080/"
        },
        "id": "1H2999udEeIT",
        "outputId": "108c6288-0582-4ad2-8560-d50cc514cb89"
      },
      "execution_count": 90,
      "outputs": [
        {
          "output_type": "execute_result",
          "data": {
            "text/plain": [
              "3"
            ]
          },
          "metadata": {},
          "execution_count": 90
        }
      ]
    },
    {
      "cell_type": "code",
      "source": [
        "'one' in my_list"
      ],
      "metadata": {
        "colab": {
          "base_uri": "https://localhost:8080/"
        },
        "id": "JAlGwLwsSCKF",
        "outputId": "490403f9-1d52-4c5c-99bf-0125428cfa06"
      },
      "execution_count": 91,
      "outputs": [
        {
          "output_type": "execute_result",
          "data": {
            "text/plain": [
              "True"
            ]
          },
          "metadata": {},
          "execution_count": 91
        }
      ]
    },
    {
      "cell_type": "code",
      "source": [
        "unsorted_list = [3, 2, 1.99, 4]\n",
        "sorted(unsorted_list)"
      ],
      "metadata": {
        "colab": {
          "base_uri": "https://localhost:8080/"
        },
        "id": "sbKIx-RcG1yy",
        "outputId": "feb9a610-e9f2-4dab-d961-5fcd82026047"
      },
      "execution_count": 72,
      "outputs": [
        {
          "output_type": "execute_result",
          "data": {
            "text/plain": [
              "[1.99, 2, 3, 4]"
            ]
          },
          "metadata": {},
          "execution_count": 72
        }
      ]
    },
    {
      "cell_type": "code",
      "source": [
        "list1 = [1, -1, 5, 4]\n",
        "list2 = [2, 7, 0, -2]\n",
        "\n",
        "sorted(list1+list2)"
      ],
      "metadata": {
        "colab": {
          "base_uri": "https://localhost:8080/"
        },
        "id": "TbrzPTizRlvd",
        "outputId": "7f549e9d-0e28-45b8-fb5d-5ca831af2dab"
      },
      "execution_count": 87,
      "outputs": [
        {
          "output_type": "execute_result",
          "data": {
            "text/plain": [
              "[-2, -1, 0, 1, 2, 4, 5, 7]"
            ]
          },
          "metadata": {},
          "execution_count": 87
        }
      ]
    },
    {
      "cell_type": "code",
      "source": [
        "list1 = [1, -1, 5, 4]\n",
        "list2 = [2, 7, 0, -2]\n",
        "list1.extend(list2)\n",
        "\n",
        "list1.sort(reverse=True)\n",
        "list1"
      ],
      "metadata": {
        "colab": {
          "base_uri": "https://localhost:8080/"
        },
        "id": "7I4EuOgaPkKX",
        "outputId": "d03334ac-7d3e-4a72-e31d-8d86a3de8aeb"
      },
      "execution_count": 98,
      "outputs": [
        {
          "output_type": "execute_result",
          "data": {
            "text/plain": [
              "[7, 5, 4, 2, 1, 0, -1, -2]"
            ]
          },
          "metadata": {},
          "execution_count": 98
        }
      ]
    },
    {
      "cell_type": "code",
      "source": [
        "list1.reverse()\n",
        "list1"
      ],
      "metadata": {
        "colab": {
          "base_uri": "https://localhost:8080/"
        },
        "id": "bNHWnSHKR_zp",
        "outputId": "3544fd8e-32e6-4692-b0ec-84b143308d91"
      },
      "execution_count": 101,
      "outputs": [
        {
          "output_type": "execute_result",
          "data": {
            "text/plain": [
              "[-2, -1, 0, 1, 2, 4, 5, 7]"
            ]
          },
          "metadata": {},
          "execution_count": 101
        }
      ]
    },
    {
      "cell_type": "markdown",
      "source": [
        "# tuple\n"
      ],
      "metadata": {
        "id": "jpidRYLFTt9H"
      }
    },
    {
      "cell_type": "code",
      "source": [
        "tuple1 = (1, 2, 3)\n",
        "\n",
        "# are immutable\n",
        "tuple1[0] = 1"
      ],
      "metadata": {
        "colab": {
          "base_uri": "https://localhost:8080/",
          "height": 200
        },
        "id": "omzGdyaeTwFU",
        "outputId": "bfbed910-6a70-4fdb-fe17-43dc52ca6e7e"
      },
      "execution_count": 102,
      "outputs": [
        {
          "output_type": "error",
          "ename": "TypeError",
          "evalue": "ignored",
          "traceback": [
            "\u001b[0;31m---------------------------------------------------------------------------\u001b[0m",
            "\u001b[0;31mTypeError\u001b[0m                                 Traceback (most recent call last)",
            "\u001b[0;32m<ipython-input-102-20ba35cf8664>\u001b[0m in \u001b[0;36m<module>\u001b[0;34m()\u001b[0m\n\u001b[1;32m      1\u001b[0m \u001b[0mtuple1\u001b[0m \u001b[0;34m=\u001b[0m \u001b[0;34m(\u001b[0m\u001b[0;36m1\u001b[0m\u001b[0;34m,\u001b[0m \u001b[0;36m2\u001b[0m\u001b[0;34m,\u001b[0m \u001b[0;36m3\u001b[0m\u001b[0;34m)\u001b[0m\u001b[0;34m\u001b[0m\u001b[0;34m\u001b[0m\u001b[0m\n\u001b[1;32m      2\u001b[0m \u001b[0;34m\u001b[0m\u001b[0m\n\u001b[0;32m----> 3\u001b[0;31m \u001b[0mtuple1\u001b[0m\u001b[0;34m[\u001b[0m\u001b[0;36m0\u001b[0m\u001b[0;34m]\u001b[0m \u001b[0;34m=\u001b[0m \u001b[0;36m1\u001b[0m\u001b[0;34m\u001b[0m\u001b[0;34m\u001b[0m\u001b[0m\n\u001b[0m",
            "\u001b[0;31mTypeError\u001b[0m: 'tuple' object does not support item assignment"
          ]
        }
      ]
    },
    {
      "cell_type": "markdown",
      "source": [
        "# set"
      ],
      "metadata": {
        "id": "-YFyHKXmUNjV"
      }
    },
    {
      "cell_type": "code",
      "source": [
        "my_set = {'a', 'b', 'c', 'd'}\n",
        "type(my_set)"
      ],
      "metadata": {
        "colab": {
          "base_uri": "https://localhost:8080/"
        },
        "id": "NswynFB2UQnr",
        "outputId": "7976752d-0edd-4882-ab66-af1d36eb0c8e"
      },
      "execution_count": 47,
      "outputs": [
        {
          "output_type": "execute_result",
          "data": {
            "text/plain": [
              "set"
            ]
          },
          "metadata": {},
          "execution_count": 47
        }
      ]
    },
    {
      "cell_type": "code",
      "source": [
        "# set elements are unique\n",
        "my_set = {'a', 'b', 'c', 'a'}\n",
        "my_set"
      ],
      "metadata": {
        "colab": {
          "base_uri": "https://localhost:8080/"
        },
        "id": "Ge4o-LeoUdyu",
        "outputId": "9a52944b-7893-451c-9d1b-1892a2e5eb70"
      },
      "execution_count": 50,
      "outputs": [
        {
          "output_type": "execute_result",
          "data": {
            "text/plain": [
              "{'a', 'b', 'c'}"
            ]
          },
          "metadata": {},
          "execution_count": 50
        }
      ]
    },
    {
      "cell_type": "code",
      "source": [
        "'d' in my_set"
      ],
      "metadata": {
        "colab": {
          "base_uri": "https://localhost:8080/"
        },
        "id": "T7SFhibSVgp4",
        "outputId": "fc92219c-f71f-46ad-d144-f67fcd348223"
      },
      "execution_count": 51,
      "outputs": [
        {
          "output_type": "execute_result",
          "data": {
            "text/plain": [
              "False"
            ]
          },
          "metadata": {},
          "execution_count": 51
        }
      ]
    },
    {
      "cell_type": "code",
      "source": [
        "# add element\n",
        "my_set.add('d')\n",
        "'d' in my_set"
      ],
      "metadata": {
        "colab": {
          "base_uri": "https://localhost:8080/"
        },
        "id": "EhcNqSPSVlKu",
        "outputId": "bac537c0-6cf1-4a2a-f960-bee29d81038c"
      },
      "execution_count": 52,
      "outputs": [
        {
          "output_type": "execute_result",
          "data": {
            "text/plain": [
              "True"
            ]
          },
          "metadata": {},
          "execution_count": 52
        }
      ]
    },
    {
      "cell_type": "code",
      "source": [
        "# remove element\n",
        "my_set.remove('a')\n",
        "my_set"
      ],
      "metadata": {
        "colab": {
          "base_uri": "https://localhost:8080/"
        },
        "id": "O9KCaUprVwI0",
        "outputId": "83202a3b-7ef3-45e7-f071-b84d429f3ae4"
      },
      "execution_count": 53,
      "outputs": [
        {
          "output_type": "execute_result",
          "data": {
            "text/plain": [
              "{'b', 'c', 'd'}"
            ]
          },
          "metadata": {},
          "execution_count": 53
        }
      ]
    },
    {
      "cell_type": "markdown",
      "source": [
        "# dictionary"
      ],
      "metadata": {
        "id": "uDHI04UhWFu_"
      }
    },
    {
      "cell_type": "code",
      "source": [
        "my_dict = dict()\n",
        "my_dict = {}\n",
        "\n",
        "my_dict"
      ],
      "metadata": {
        "colab": {
          "base_uri": "https://localhost:8080/"
        },
        "id": "QjQfEwhuWIb1",
        "outputId": "afac9996-87d5-4c54-d517-ea62ddea03b2"
      },
      "execution_count": 54,
      "outputs": [
        {
          "output_type": "execute_result",
          "data": {
            "text/plain": [
              "{}"
            ]
          },
          "metadata": {},
          "execution_count": 54
        }
      ]
    },
    {
      "cell_type": "code",
      "source": [
        "my_dict = {'name': 'Jack', 'age': 10}"
      ],
      "metadata": {
        "id": "rvO2Ua9jWXr4"
      },
      "execution_count": 55,
      "outputs": []
    },
    {
      "cell_type": "code",
      "source": [
        "my_dict.keys()"
      ],
      "metadata": {
        "colab": {
          "base_uri": "https://localhost:8080/"
        },
        "id": "lv5zsg1jXnck",
        "outputId": "778c37a7-bc61-42f1-e404-e9ff0eb41e08"
      },
      "execution_count": 56,
      "outputs": [
        {
          "output_type": "execute_result",
          "data": {
            "text/plain": [
              "dict_keys(['name', 'age'])"
            ]
          },
          "metadata": {},
          "execution_count": 56
        }
      ]
    },
    {
      "cell_type": "code",
      "source": [
        "my_dict.values()"
      ],
      "metadata": {
        "colab": {
          "base_uri": "https://localhost:8080/"
        },
        "id": "OdVjto8VXpCj",
        "outputId": "642c4ed8-6819-46a5-f1db-639da27d68a7"
      },
      "execution_count": 57,
      "outputs": [
        {
          "output_type": "execute_result",
          "data": {
            "text/plain": [
              "dict_values(['Jack', 10])"
            ]
          },
          "metadata": {},
          "execution_count": 57
        }
      ]
    },
    {
      "cell_type": "code",
      "source": [
        "my_dict.items()"
      ],
      "metadata": {
        "colab": {
          "base_uri": "https://localhost:8080/"
        },
        "id": "oHzw3rItXxVZ",
        "outputId": "cfcab2d5-ee3b-4074-e0d9-c645234d694c"
      },
      "execution_count": 58,
      "outputs": [
        {
          "output_type": "execute_result",
          "data": {
            "text/plain": [
              "dict_items([('name', 'Jack'), ('age', 10)])"
            ]
          },
          "metadata": {},
          "execution_count": 58
        }
      ]
    },
    {
      "cell_type": "code",
      "source": [
        "# access by kye\n",
        "# my_dict['name']\n",
        "my_dict.get('name')"
      ],
      "metadata": {
        "colab": {
          "base_uri": "https://localhost:8080/",
          "height": 35
        },
        "id": "mhkda692X-w9",
        "outputId": "b6a203b4-61a7-4360-86bf-2853cc4bc4f6"
      },
      "execution_count": 60,
      "outputs": [
        {
          "output_type": "execute_result",
          "data": {
            "text/plain": [
              "'Jack'"
            ],
            "application/vnd.google.colaboratory.intrinsic+json": {
              "type": "string"
            }
          },
          "metadata": {},
          "execution_count": 60
        }
      ]
    },
    {
      "cell_type": "code",
      "source": [
        "# add item\n",
        "my_dict['address'] = 'downtown'\n",
        "my_dict"
      ],
      "metadata": {
        "colab": {
          "base_uri": "https://localhost:8080/"
        },
        "id": "OM2jKLKvaLgM",
        "outputId": "67c081b4-638e-4104-aebf-00f4a0c49a41"
      },
      "execution_count": 61,
      "outputs": [
        {
          "output_type": "execute_result",
          "data": {
            "text/plain": [
              "{'address': 'downtown', 'age': 10, 'name': 'Jack'}"
            ]
          },
          "metadata": {},
          "execution_count": 61
        }
      ]
    },
    {
      "cell_type": "code",
      "source": [
        "# remove item\n",
        "my_dict.pop('age')\n",
        "my_dict"
      ],
      "metadata": {
        "colab": {
          "base_uri": "https://localhost:8080/"
        },
        "id": "QXEQYYkKbACC",
        "outputId": "0c3f7d80-d5e2-49a5-9741-cdd58434dff4"
      },
      "execution_count": 62,
      "outputs": [
        {
          "output_type": "execute_result",
          "data": {
            "text/plain": [
              "{'address': 'downtown', 'name': 'Jack'}"
            ]
          },
          "metadata": {},
          "execution_count": 62
        }
      ]
    },
    {
      "cell_type": "markdown",
      "source": [
        "# functions\n",
        "\n",
        "![image.png](data:image/png;base64,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)"
      ],
      "metadata": {
        "id": "r503LBSF2LT7"
      }
    },
    {
      "cell_type": "code",
      "source": [
        "# implement function\n",
        "def factorial(n):\n",
        "    '''\n",
        "    Takes number n,\n",
        "    return n!\n",
        "    '''\n",
        "    if n == 0:\n",
        "       return 1\n",
        "\n",
        "    return n * factorial(n-1)"
      ],
      "metadata": {
        "id": "e2gdE9Zl1Bdt"
      },
      "execution_count": 63,
      "outputs": []
    },
    {
      "cell_type": "code",
      "source": [
        "# call function\n",
        "factorial(5)"
      ],
      "metadata": {
        "colab": {
          "base_uri": "https://localhost:8080/"
        },
        "id": "iT865kUoqyTl",
        "outputId": "94c76cc0-5e00-4c80-9f71-2ff830b14beb"
      },
      "execution_count": 64,
      "outputs": [
        {
          "output_type": "execute_result",
          "data": {
            "text/plain": [
              "120"
            ]
          },
          "metadata": {},
          "execution_count": 64
        }
      ]
    },
    {
      "cell_type": "code",
      "source": [
        "def print_name(data):\n",
        "    '''\n",
        "    Takes dictionary as person info,\n",
        "    print age of person (key)\n",
        "    '''\n",
        "    print('{} is {}.'.format(data['name'], data['age']))"
      ],
      "metadata": {
        "id": "tz1A-PLUrSSg"
      },
      "execution_count": 65,
      "outputs": []
    },
    {
      "cell_type": "code",
      "source": [
        "person = {'name': 'Jack', 'age':10}\n",
        "print_name(person)"
      ],
      "metadata": {
        "colab": {
          "base_uri": "https://localhost:8080/"
        },
        "id": "innQkYV-sX3N",
        "outputId": "271c59c0-c852-4808-aa4e-89f637421db1"
      },
      "execution_count": 66,
      "outputs": [
        {
          "output_type": "stream",
          "name": "stdout",
          "text": [
            "Jack is 10.\n"
          ]
        }
      ]
    },
    {
      "cell_type": "markdown",
      "source": [
        "# class"
      ],
      "metadata": {
        "id": "oJfmUsEzrIBA"
      }
    },
    {
      "cell_type": "markdown",
      "source": [
        "define person class"
      ],
      "metadata": {
        "id": "l6o-fHn2u695"
      }
    },
    {
      "cell_type": "code",
      "source": [
        "class Person:\n",
        "  \n",
        "      def __init__(self, name, age):\n",
        "          self.name = name\n",
        "          self.age = age\n",
        "      def introduce(self):\n",
        "          print('Hi! I\\'m {}.'.format(self.name))"
      ],
      "metadata": {
        "id": "Bkw_LDUurCE9"
      },
      "execution_count": 67,
      "outputs": []
    },
    {
      "cell_type": "code",
      "source": [
        "p1 = Person('Jack', 10)\n",
        "p1.introduce()"
      ],
      "metadata": {
        "colab": {
          "base_uri": "https://localhost:8080/"
        },
        "id": "aP5LFbvHtck0",
        "outputId": "92179f1a-d0a7-4036-f763-9069d0b3069c"
      },
      "execution_count": 68,
      "outputs": [
        {
          "output_type": "stream",
          "name": "stdout",
          "text": [
            "Hi! I'm Jack.\n"
          ]
        }
      ]
    },
    {
      "cell_type": "markdown",
      "source": [
        "Inheritance"
      ],
      "metadata": {
        "id": "PchPDt9luxTs"
      }
    },
    {
      "cell_type": "code",
      "source": [
        "class Employee(Person):\n",
        "\n",
        "      def __init__(self, name, age, id):\n",
        "          Person.__init__(self, name, age)\n",
        "          self.id = id\n",
        "\n",
        "      def get_id(self):\n",
        "          return self.id"
      ],
      "metadata": {
        "id": "Kz5Z2yJCtyBN"
      },
      "execution_count": 69,
      "outputs": []
    },
    {
      "cell_type": "code",
      "source": [
        "p2 = Employee('Sara', 32, 1)\n",
        "p2.get_id()"
      ],
      "metadata": {
        "colab": {
          "base_uri": "https://localhost:8080/"
        },
        "id": "-VaOJvwzukNU",
        "outputId": "215f7a4b-15cd-423d-93b8-49fb42d14dc3"
      },
      "execution_count": 70,
      "outputs": [
        {
          "output_type": "execute_result",
          "data": {
            "text/plain": [
              "1"
            ]
          },
          "metadata": {},
          "execution_count": 70
        }
      ]
    },
    {
      "cell_type": "code",
      "source": [
        "p2.introduce()"
      ],
      "metadata": {
        "colab": {
          "base_uri": "https://localhost:8080/"
        },
        "id": "-e2DaAQyvDmU",
        "outputId": "7815f51d-b08e-4849-ce66-90dfb925cb42"
      },
      "execution_count": 71,
      "outputs": [
        {
          "output_type": "stream",
          "name": "stdout",
          "text": [
            "Hi! I'm Sara.\n"
          ]
        }
      ]
    }
  ]
}